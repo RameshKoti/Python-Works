{
 "cells": [
  {
   "cell_type": "code",
   "execution_count": 1,
   "id": "e60608d9",
   "metadata": {},
   "outputs": [],
   "source": [
    "import pandas as pd\n",
    "import numpy as np\n",
    "import random as random"
   ]
  },
  {
   "cell_type": "code",
   "execution_count": 2,
   "id": "4a48312a",
   "metadata": {},
   "outputs": [
    {
     "name": "stdout",
     "output_type": "stream",
     "text": [
      "Enter a number: 5\n",
      "5 is a prime number.\n"
     ]
    }
   ],
   "source": [
    "number = int(input(\"Enter a number: \"))\n",
    "\n",
    "is_prime = True\n",
    "for i in range(2, int(number**0.5) + 1):\n",
    "    if number % i == 0:\n",
    "        is_prime = False\n",
    "        break\n",
    "\n",
    "if is_prime:\n",
    "    print(f\"{number} is a prime number.\")\n",
    "else:\n",
    "    print(f\"{number} is not a prime number.\")"
   ]
  },
  {
   "cell_type": "code",
   "execution_count": 3,
   "id": "e5222c19",
   "metadata": {},
   "outputs": [
    {
     "name": "stdout",
     "output_type": "stream",
     "text": [
      "Enter a number: 54\n",
      "54 is not a prime number.\n"
     ]
    }
   ],
   "source": [
    "number = int(input(\"Enter a number: \"))\n",
    "\n",
    "is_prime = True\n",
    "for i in range(2, int(number**0.5) + 1):\n",
    "    if number % i == 0:\n",
    "        is_prime = False\n",
    "        break\n",
    "\n",
    "if is_prime:\n",
    "    print(f\"{number} is a prime number.\")\n",
    "else:\n",
    "    print(f\"{number} is not a prime number.\")"
   ]
  },
  {
   "cell_type": "code",
   "execution_count": 4,
   "id": "20902124",
   "metadata": {},
   "outputs": [
    {
     "name": "stdout",
     "output_type": "stream",
     "text": [
      "Enter a number: 89\n",
      "89 is a prime number.\n"
     ]
    }
   ],
   "source": [
    "number = int(input(\"Enter a number: \"))\n",
    "\n",
    "is_prime = True\n",
    "for i in range(2, int(number**0.5) + 1):\n",
    "    if number % i == 0:\n",
    "        is_prime = False\n",
    "        break\n",
    "\n",
    "if is_prime:\n",
    "    print(f\"{number} is a prime number.\")\n",
    "else:\n",
    "    print(f\"{number} is not a prime number.\")"
   ]
  },
  {
   "cell_type": "code",
   "execution_count": 5,
   "id": "c613d3ed",
   "metadata": {},
   "outputs": [
    {
     "name": "stdout",
     "output_type": "stream",
     "text": [
      "Enter a number: 95\n",
      "95 is not a prime number.\n"
     ]
    }
   ],
   "source": [
    "number = int(input(\"Enter a number: \"))\n",
    "\n",
    "is_prime = True\n",
    "for i in range(2, int(number**0.5) + 1):\n",
    "    if number % i == 0:\n",
    "        is_prime = False\n",
    "        break\n",
    "\n",
    "if is_prime:\n",
    "    print(f\"{number} is a prime number.\")\n",
    "else:\n",
    "    print(f\"{number} is not a prime number.\")"
   ]
  },
  {
   "cell_type": "code",
   "execution_count": 6,
   "id": "949d9ba0",
   "metadata": {},
   "outputs": [],
   "source": [
    "#Question 2\n",
    "number_1= random.randint(1,100)\n",
    "number_2= random.randint(1,100)"
   ]
  },
  {
   "cell_type": "code",
   "execution_count": 7,
   "id": "f36b1d7c",
   "metadata": {},
   "outputs": [
    {
     "data": {
      "text/plain": [
       "93"
      ]
     },
     "execution_count": 7,
     "metadata": {},
     "output_type": "execute_result"
    }
   ],
   "source": [
    "number_1"
   ]
  },
  {
   "cell_type": "code",
   "execution_count": 8,
   "id": "36781657",
   "metadata": {},
   "outputs": [
    {
     "data": {
      "text/plain": [
       "52"
      ]
     },
     "execution_count": 8,
     "metadata": {},
     "output_type": "execute_result"
    }
   ],
   "source": [
    "number_2"
   ]
  },
  {
   "cell_type": "code",
   "execution_count": 9,
   "id": "c445dccc",
   "metadata": {},
   "outputs": [
    {
     "name": "stdout",
     "output_type": "stream",
     "text": [
      "what is the product of 93 and 52?687\n",
      "Wrong Input.\n"
     ]
    }
   ],
   "source": [
    "user_input= int(input(f'what is the product of {number_1} and {number_2}?'))\n",
    "product= (number_1)*(number_2)\n",
    "\n",
    "\n",
    "if user_input== product:\n",
    "    print(\"Your input is correct.\")\n",
    "\n",
    "else:\n",
    "    print(\"Wrong Input.\")"
   ]
  },
  {
   "cell_type": "code",
   "execution_count": 11,
   "id": "fbf971f3",
   "metadata": {
    "scrolled": false
   },
   "outputs": [
    {
     "name": "stdout",
     "output_type": "stream",
     "text": [
      "Enter 'even' for even numbers or 'odd' for odd numbers: even\n",
      "10000\n",
      "10404\n",
      "10816\n",
      "11236\n",
      "11664\n",
      "12100\n",
      "12544\n",
      "12996\n",
      "13456\n",
      "13924\n",
      "14400\n",
      "14884\n",
      "15376\n",
      "15876\n",
      "16384\n",
      "16900\n",
      "17424\n",
      "17956\n",
      "18496\n",
      "19044\n",
      "19600\n",
      "20164\n",
      "20736\n",
      "21316\n",
      "21904\n",
      "22500\n",
      "23104\n",
      "23716\n",
      "24336\n",
      "24964\n",
      "25600\n",
      "26244\n",
      "26896\n",
      "27556\n",
      "28224\n",
      "28900\n",
      "29584\n",
      "30276\n",
      "30976\n",
      "31684\n",
      "32400\n",
      "33124\n",
      "33856\n",
      "34596\n",
      "35344\n",
      "36100\n",
      "36864\n",
      "37636\n",
      "38416\n",
      "39204\n",
      "40000\n"
     ]
    }
   ],
   "source": [
    "selection = input(\"Enter 'even' for even numbers or 'odd' for odd numbers: \")\n",
    "\n",
    "i = 100\n",
    "while i <= 200:\n",
    "    if selection == 'even' and i % 2 == 0:\n",
    "        print(i ** 2)\n",
    "    elif selection == 'o' and i % 2 != 0:\n",
    "        print(i ** 2)\n",
    "    i += 1"
   ]
  },
  {
   "cell_type": "code",
   "execution_count": 12,
   "id": "3314a2e5",
   "metadata": {},
   "outputs": [
    {
     "name": "stdout",
     "output_type": "stream",
     "text": [
      "Enter 'even' for even numbers or 'odd' for odd numbers: odd\n",
      "10201\n",
      "10609\n",
      "11025\n",
      "11449\n",
      "11881\n",
      "12321\n",
      "12769\n",
      "13225\n",
      "13689\n",
      "14161\n",
      "14641\n",
      "15129\n",
      "15625\n",
      "16129\n",
      "16641\n",
      "17161\n",
      "17689\n",
      "18225\n",
      "18769\n",
      "19321\n",
      "19881\n",
      "20449\n",
      "21025\n",
      "21609\n",
      "22201\n",
      "22801\n",
      "23409\n",
      "24025\n",
      "24649\n",
      "25281\n",
      "25921\n",
      "26569\n",
      "27225\n",
      "27889\n",
      "28561\n",
      "29241\n",
      "29929\n",
      "30625\n",
      "31329\n",
      "32041\n",
      "32761\n",
      "33489\n",
      "34225\n",
      "34969\n",
      "35721\n",
      "36481\n",
      "37249\n",
      "38025\n",
      "38809\n",
      "39601\n"
     ]
    }
   ],
   "source": [
    "selection = input(\"Enter 'even' for even numbers or 'odd' for odd numbers: \")\n",
    "\n",
    "i = 100\n",
    "while i <= 200:\n",
    "    if selection == 'even' and i % 2 == 0:\n",
    "        print(i ** 2)\n",
    "    elif selection == 'odd' and i % 2 != 0:\n",
    "        print(i ** 2)\n",
    "    i += 1"
   ]
  },
  {
   "cell_type": "code",
   "execution_count": 13,
   "id": "c89ff62c",
   "metadata": {},
   "outputs": [
    {
     "data": {
      "text/plain": [
       "'This is a sample text. This text will be used to demonstrate the word counter.'"
      ]
     },
     "execution_count": 13,
     "metadata": {},
     "output_type": "execute_result"
    }
   ],
   "source": [
    "#write a program to count the number of words in a given text.\n",
    "\n",
    "input_text= (\"This is a sample text. This text will be used to demonstrate the word counter.\")\n",
    "input_text"
   ]
  },
  {
   "cell_type": "code",
   "execution_count": 14,
   "id": "4c08fad7",
   "metadata": {},
   "outputs": [
    {
     "data": {
      "text/plain": [
       "78"
      ]
     },
     "execution_count": 14,
     "metadata": {},
     "output_type": "execute_result"
    }
   ],
   "source": [
    "len(input_text)"
   ]
  },
  {
   "cell_type": "code",
   "execution_count": 16,
   "id": "7704e4e3",
   "metadata": {},
   "outputs": [
    {
     "data": {
      "text/plain": [
       "15"
      ]
     },
     "execution_count": 16,
     "metadata": {},
     "output_type": "execute_result"
    }
   ],
   "source": [
    "words= input_text.split()\n",
    "len(words)"
   ]
  },
  {
   "cell_type": "code",
   "execution_count": 23,
   "id": "d54c014f",
   "metadata": {
    "scrolled": true
   },
   "outputs": [
    {
     "name": "stdout",
     "output_type": "stream",
     "text": [
      "'this': 2\n",
      "'is': 1\n",
      "'a': 1\n",
      "'sample': 1\n",
      "'text': 2\n",
      "'will': 1\n",
      "'be': 1\n",
      "'used': 1\n",
      "'to': 1\n",
      "'demonstrate': 1\n",
      "'the': 1\n",
      "'word': 1\n",
      "'counter': 1\n"
     ]
    }
   ],
   "source": [
    "import re\n",
    "from collections import defaultdict\n",
    "\n",
    "input_text = \"This is a sample text. This text will be used to demonstrate the word counter.\"\n",
    "\n",
    "def count_word_frequencies(text):\n",
    "    cleaned_text = re.sub(r'[^\\w\\s]', '', text.lower())\n",
    "\n",
    "    # Split into words\n",
    "    words = cleaned_text.split()\n",
    "\n",
    "    # Create a defaultdict for counting\n",
    "    word_count = defaultdict(int)\n",
    "\n",
    "    # Count the frequency of each word\n",
    "    for word in words:\n",
    "        word_count[word] += 1\n",
    "\n",
    "    return word_count\n",
    "\n",
    "word_frequencies = count_word_frequencies(input_text)\n",
    "\n",
    "for word, count in word_frequencies.items():\n",
    "    print(f\"'{word}': {count}\")\n"
   ]
  },
  {
   "cell_type": "code",
   "execution_count": 3,
   "id": "f76aa031",
   "metadata": {},
   "outputs": [
    {
     "name": "stdout",
     "output_type": "stream",
     "text": [
      "Enter your expression: racecar\n",
      "racecar is a palindrome.\n"
     ]
    }
   ],
   "source": [
    "def is_palindrome(string):\n",
    "    string= string.lower().replace(\" \", \" \")\n",
    "    return string == string[::-1]\n",
    "\n",
    "input_string= input(\"Enter your expression: \")\n",
    "\n",
    "if is_palindrome(input_string):\n",
    "    print(f'{input_string} is a palindrome.')\n",
    "else:\n",
    "    print(f'{input_string} is not a palindrome.')"
   ]
  },
  {
   "cell_type": "code",
   "execution_count": 4,
   "id": "746965c3",
   "metadata": {
    "scrolled": true
   },
   "outputs": [
    {
     "name": "stdout",
     "output_type": "stream",
     "text": [
      "Enter your expression: mom\n",
      "mom is a palindrome.\n"
     ]
    }
   ],
   "source": [
    "def is_palindrome(string):\n",
    "    string= string.lower().replace(\" \", \" \")\n",
    "    return string == string[::-1]\n",
    "\n",
    "input_string= input(\"Enter your expression: \")\n",
    "\n",
    "if is_palindrome(input_string):\n",
    "    print(f'{input_string} is a palindrome.')\n",
    "else:\n",
    "    print(f'{input_string} is not a palindrome.')"
   ]
  },
  {
   "cell_type": "code",
   "execution_count": 5,
   "id": "693381ce",
   "metadata": {},
   "outputs": [
    {
     "name": "stdout",
     "output_type": "stream",
     "text": [
      "Enter your expression: tenet\n",
      "tenet is a palindrome.\n"
     ]
    }
   ],
   "source": [
    "def is_palindrome(string):\n",
    "    string= string.lower().replace(\" \", \" \")\n",
    "    return string == string[::-1]\n",
    "\n",
    "input_string= input(\"Enter your expression: \")\n",
    "\n",
    "if is_palindrome(input_string):\n",
    "    print(f'{input_string} is a palindrome.')\n",
    "else:\n",
    "    print(f'{input_string} is not a palindrome.')"
   ]
  },
  {
   "cell_type": "code",
   "execution_count": 6,
   "id": "8a596570",
   "metadata": {},
   "outputs": [
    {
     "name": "stdout",
     "output_type": "stream",
     "text": [
      "Enter your expression: ramesh\n",
      "ramesh is not a palindrome.\n"
     ]
    }
   ],
   "source": [
    "def is_palindrome(string):\n",
    "    string= string.lower().replace(\" \", \" \")\n",
    "    return string == string[::-1]\n",
    "\n",
    "input_string= input(\"Enter your expression: \")\n",
    "\n",
    "if is_palindrome(input_string):\n",
    "    print(f'{input_string} is a palindrome.')\n",
    "else:\n",
    "    print(f'{input_string} is not a palindrome.')"
   ]
  },
  {
   "cell_type": "code",
   "execution_count": null,
   "id": "518db78e",
   "metadata": {},
   "outputs": [],
   "source": []
  }
 ],
 "metadata": {
  "kernelspec": {
   "display_name": "Python 3 (ipykernel)",
   "language": "python",
   "name": "python3"
  },
  "language_info": {
   "codemirror_mode": {
    "name": "ipython",
    "version": 3
   },
   "file_extension": ".py",
   "mimetype": "text/x-python",
   "name": "python",
   "nbconvert_exporter": "python",
   "pygments_lexer": "ipython3",
   "version": "3.11.5"
  }
 },
 "nbformat": 4,
 "nbformat_minor": 5
}
